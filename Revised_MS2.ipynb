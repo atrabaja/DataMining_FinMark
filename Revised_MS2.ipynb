{
 "cells": [
  {
   "cell_type": "code",
   "execution_count": 62,
   "id": "16668085-8101-402d-a68c-cb5f220e94ef",
   "metadata": {},
   "outputs": [],
   "source": [
    "# Import essential libraries for data manipulation, visualization, clustering, scaling, and dimensionality reduction.\n",
    "import pandas as pd\n",
    "import matplotlib.pyplot as plt\n",
    "import seaborn as sns\n",
    "from sklearn.cluster import KMeans\n",
    "from sklearn.preprocessing import StandardScaler\n",
    "from sklearn.decomposition import PCA\n",
    "from sklearn.impute import SimpleImputer\n",
    "from sklearn.metrics import silhouette_score"
   ]
  },
  {
   "cell_type": "code",
   "execution_count": 63,
   "id": "e69d3b59-b60d-4307-985c-780a44b2cd24",
   "metadata": {},
   "outputs": [
    {
     "name": "stdout",
     "output_type": "stream",
     "text": [
      "Dataset loaded successfully. Shape: (1000, 10)\n",
      "   Customer_ID  Satisfaction_Score  Feedback_Comments  \\\n",
      "0            1                10.0     Very satisfied   \n",
      "1            2                 3.0     Very satisfied   \n",
      "2            3                10.0     Very satisfied   \n",
      "3            4                 7.0  Needs improvement   \n",
      "4            5                 8.0     Unsatisfactory   \n",
      "\n",
      "   Likelihood_to_Recommend  Customer_Loyalty_Score  Sentiment_Score  \\\n",
      "0                        9                     9.5             0.65   \n",
      "1                        3                     3.0             0.65   \n",
      "2                        1                     5.5             0.65   \n",
      "3                        4                     5.5             0.00   \n",
      "4                        7                     7.5             0.00   \n",
      "\n",
      "   Total_Transaction_Amount  Average_Transaction_Amount  \\\n",
      "0                   16836.0                      2806.0   \n",
      "1                    4907.0                      2453.5   \n",
      "2                    1538.0                      1538.0   \n",
      "3                    8295.0                      4147.5   \n",
      "4                   14798.0                      2959.6   \n",
      "\n",
      "   Transaction_Frequency Recent_Transaction_Date  \n",
      "0                    6.0     2023-07-02 03:00:00  \n",
      "1                    2.0     2023-05-21 23:00:00  \n",
      "2                    1.0     2023-02-27 23:00:00  \n",
      "3                    2.0     2023-06-30 01:00:00  \n",
      "4                    5.0     2023-07-27 00:00:00  \n"
     ]
    }
   ],
   "source": [
    "# 1. Data Loading Section\n",
    "final_df = pd.read_csv('/Users/atrabaja/Documents/FinMark_DataMining/Final_Merged_Dataset.csv')\n",
    "print(\"Dataset loaded successfully. Shape:\", final_df.shape)\n",
    "print(final_df.head())"
   ]
  },
  {
   "cell_type": "code",
   "execution_count": 64,
   "id": "0809dba6-c73f-4158-903b-c5bdffddff51",
   "metadata": {},
   "outputs": [
    {
     "name": "stdout",
     "output_type": "stream",
     "text": [
      "Selected features for clustering:\n",
      "   Total_Transaction_Amount  Average_Transaction_Amount  \\\n",
      "0                   16836.0                      2806.0   \n",
      "1                    4907.0                      2453.5   \n",
      "2                    1538.0                      1538.0   \n",
      "3                    8295.0                      4147.5   \n",
      "4                   14798.0                      2959.6   \n",
      "\n",
      "   Transaction_Frequency  Customer_Loyalty_Score  Sentiment_Score  \n",
      "0                    6.0                     9.5             0.65  \n",
      "1                    2.0                     3.0             0.65  \n",
      "2                    1.0                     5.5             0.65  \n",
      "3                    2.0                     5.5             0.00  \n",
      "4                    5.0                     7.5             0.00  \n"
     ]
    }
   ],
   "source": [
    "# 2. Feature Selection Section\n",
    "features = final_df[['Total_Transaction_Amount', 'Average_Transaction_Amount', 'Transaction_Frequency', 'Customer_Loyalty_Score', 'Sentiment_Score']]\n",
    "print(\"Selected features for clustering:\")\n",
    "print(features.head())"
   ]
  },
  {
   "cell_type": "code",
   "execution_count": 65,
   "id": "e1fc3ea8-7f09-457f-be3e-f4dd2eb9550a",
   "metadata": {},
   "outputs": [
    {
     "name": "stdout",
     "output_type": "stream",
     "text": [
      "Missing values handled. First 5 rows:\n",
      "   Total_Transaction_Amount  Average_Transaction_Amount  \\\n",
      "0                   16836.0                      2806.0   \n",
      "1                    4907.0                      2453.5   \n",
      "2                    1538.0                      1538.0   \n",
      "3                    8295.0                      4147.5   \n",
      "4                   14798.0                      2959.6   \n",
      "\n",
      "   Transaction_Frequency  Customer_Loyalty_Score  Sentiment_Score  \n",
      "0                    6.0                     9.5             0.65  \n",
      "1                    2.0                     3.0             0.65  \n",
      "2                    1.0                     5.5             0.65  \n",
      "3                    2.0                     5.5             0.00  \n",
      "4                    5.0                     7.5             0.00  \n"
     ]
    }
   ],
   "source": [
    "# 3. Handling Missing Values Section\n",
    "imputer = SimpleImputer(strategy='mean')\n",
    "features_imputed = imputer.fit_transform(features)\n",
    "print(\"Missing values handled. First 5 rows:\")\n",
    "print(pd.DataFrame(features_imputed, columns=features.columns).head())"
   ]
  },
  {
   "cell_type": "code",
   "execution_count": 66,
   "id": "03adc3e1-c397-4b3e-9d27-f8e48a41709a",
   "metadata": {},
   "outputs": [
    {
     "name": "stdout",
     "output_type": "stream",
     "text": [
      "Features standardized. First 5 rows:\n",
      "   Total_Transaction_Amount  Average_Transaction_Amount  \\\n",
      "0                  0.684789                    0.421872   \n",
      "1                 -1.197486                   -0.047752   \n",
      "2                 -1.729080                   -1.267441   \n",
      "3                 -0.662894                    2.209105   \n",
      "4                  0.363213                    0.626508   \n",
      "\n",
      "   Transaction_Frequency  Customer_Loyalty_Score  Sentiment_Score  \n",
      "0               0.448776                1.607950         0.576566  \n",
      "1              -1.392691               -1.047456         0.576566  \n",
      "2              -1.853057               -0.026146         0.576566  \n",
      "3              -1.392691               -0.026146        -1.144526  \n",
      "4              -0.011590                0.790902        -1.144526  \n"
     ]
    }
   ],
   "source": [
    "# 4. Data Standardization Section\n",
    "scaler = StandardScaler()\n",
    "scaled_features = scaler.fit_transform(features_imputed)\n",
    "print(\"Features standardized. First 5 rows:\")\n",
    "print(pd.DataFrame(scaled_features, columns=features.columns).head())"
   ]
  },
  {
   "cell_type": "code",
   "execution_count": 67,
   "id": "387dfec2-e5f6-4587-af0c-1926f9c82a80",
   "metadata": {},
   "outputs": [
    {
     "name": "stdout",
     "output_type": "stream",
     "text": [
      "Feature correlation matrix:\n",
      "                            Total_Transaction_Amount  \\\n",
      "Total_Transaction_Amount                    1.000000   \n",
      "Average_Transaction_Amount                  0.445870   \n",
      "Transaction_Frequency                       0.858457   \n",
      "Customer_Loyalty_Score                      0.041039   \n",
      "Sentiment_Score                            -0.047180   \n",
      "\n",
      "                            Average_Transaction_Amount  Transaction_Frequency  \\\n",
      "Total_Transaction_Amount                      0.445870               0.858457   \n",
      "Average_Transaction_Amount                    1.000000              -0.008078   \n",
      "Transaction_Frequency                        -0.008078               1.000000   \n",
      "Customer_Loyalty_Score                        0.046366               0.020399   \n",
      "Sentiment_Score                              -0.029112              -0.037065   \n",
      "\n",
      "                            Customer_Loyalty_Score  Sentiment_Score  \n",
      "Total_Transaction_Amount                  0.041039        -0.047180  \n",
      "Average_Transaction_Amount                0.046366        -0.029112  \n",
      "Transaction_Frequency                     0.020399        -0.037065  \n",
      "Customer_Loyalty_Score                    1.000000        -0.038956  \n",
      "Sentiment_Score                          -0.038956         1.000000  \n"
     ]
    }
   ],
   "source": [
    "# 5. Feature Correlation Analysis\n",
    "correlation_matrix = pd.DataFrame(scaled_features, columns=features.columns).corr()\n",
    "print(\"Feature correlation matrix:\")\n",
    "print(correlation_matrix)"
   ]
  },
  {
   "cell_type": "code",
   "execution_count": 68,
   "id": "1a6e6707-52dd-4361-bbfc-77b4ae8aa464",
   "metadata": {},
   "outputs": [
    {
     "name": "stdout",
     "output_type": "stream",
     "text": [
      "Highly correlated feature pairs:\n",
      "Transaction_Frequency  Total_Transaction_Amount    0.858457\n",
      "dtype: float64\n"
     ]
    }
   ],
   "source": [
    "# Identify feature pairs with high correlation (above 0.7)\n",
    "high_corr_features = correlation_matrix.unstack().sort_values(ascending=False)\n",
    "high_corr_features = high_corr_features[high_corr_features < 1].drop_duplicates()\n",
    "print(\"Highly correlated feature pairs:\")\n",
    "print(high_corr_features[high_corr_features > 0.7])"
   ]
  },
  {
   "cell_type": "code",
   "execution_count": 69,
   "id": "19b78377-fda0-4bca-8e50-b013aeb86080",
   "metadata": {},
   "outputs": [
    {
     "name": "stdout",
     "output_type": "stream",
     "text": [
      "PCA applied. Explained variance ratio: [0.39443926 0.21020545]\n",
      "First 5 PCA transformed features:\n",
      "       PCA1      PCA2\n",
      "0  0.957194  0.787309\n",
      "1 -1.833521 -0.497876\n",
      "2 -2.827637 -0.248287\n",
      "3 -0.543755  2.078247\n",
      "4  0.580077  1.369739\n"
     ]
    }
   ],
   "source": [
    "# 6. Dimensionality Reduction Section\n",
    "pca = PCA(n_components=2)\n",
    "pca_features = pca.fit_transform(scaled_features)\n",
    "print(\"PCA applied. Explained variance ratio:\", pca.explained_variance_ratio_)\n",
    "print(\"First 5 PCA transformed features:\")\n",
    "print(pd.DataFrame(pca_features, columns=['PCA1', 'PCA2']).head())"
   ]
  },
  {
   "cell_type": "code",
   "execution_count": 70,
   "id": "bbab8594-9137-4ca2-88a8-0592230d608b",
   "metadata": {},
   "outputs": [
    {
     "name": "stdout",
     "output_type": "stream",
     "text": [
      "PCA Loadings:       Total_Transaction_Amount  Average_Transaction_Amount  \\\n",
      "PCA1                  0.705276                    0.323284   \n",
      "PCA2                 -0.050895                    0.479564   \n",
      "\n",
      "      Transaction_Frequency  Customer_Loyalty_Score  Sentiment_Score  \n",
      "PCA1               0.624035                0.061094        -0.070147  \n",
      "PCA2              -0.310558                0.650617        -0.497674  \n"
     ]
    }
   ],
   "source": [
    "# Extract PCA Loadings\n",
    "pca_loadings = pd.DataFrame(pca.components_, columns=features.columns, index=['PCA1', 'PCA2'])\n",
    "print(\"PCA Loadings:\", pca_loadings)"
   ]
  },
  {
   "cell_type": "code",
   "execution_count": 71,
   "id": "7183ba1d-8ab8-4c6f-8492-bad0a2dc3372",
   "metadata": {},
   "outputs": [
    {
     "name": "stdout",
     "output_type": "stream",
     "text": [
      "Top Features contributing to PCA1: Total_Transaction_Amount    0.705276\n",
      "Transaction_Frequency       0.624035\n",
      "Name: PCA1, dtype: float64\n",
      "Top Features contributing to PCA2: Customer_Loyalty_Score    0.650617\n",
      "Sentiment_Score           0.497674\n",
      "Name: PCA2, dtype: float64\n"
     ]
    }
   ],
   "source": [
    "# Identify the top 2 features with the highest absolute loadings in PCA1 and PCA2\n",
    "top_features_pca1 = pca_loadings.loc['PCA1'].abs().sort_values(ascending=False).head(2)\n",
    "top_features_pca2 = pca_loadings.loc['PCA2'].abs().sort_values(ascending=False).head(2)\n",
    "print(\"Top Features contributing to PCA1:\", top_features_pca1)\n",
    "print(\"Top Features contributing to PCA2:\", top_features_pca2)"
   ]
  },
  {
   "cell_type": "code",
   "execution_count": 72,
   "id": "04389bbd-5120-418d-bcb2-05c7f2fcad5a",
   "metadata": {},
   "outputs": [
    {
     "data": {
      "image/png": "[encoded data removed]",
      "text/plain": [
       "<Figure size 800x500 with 1 Axes>"
      ]
     },
     "metadata": {},
     "output_type": "display_data"
    }
   ],
   "source": [
    "# 7. Elbow Method for Optimal Clusters\n",
    "inertia = []\n",
    "k_values = range(5, 11)\n",
    "for k in k_values:\n",
    "    kmeans = KMeans(n_clusters=k, random_state=42)\n",
    "    kmeans.fit(pca_features)\n",
    "    inertia.append(kmeans.inertia_)\n",
    "\n",
    "plt.figure(figsize=(8, 5))\n",
    "plt.plot(k_values, inertia, marker='o', linestyle='--')\n",
    "plt.xlabel('Number of Clusters')\n",
    "plt.ylabel('Inertia')\n",
    "plt.title('Elbow Method to Determine Optimal Clusters')\n",
    "plt.show()"
   ]
  },
  {
   "cell_type": "code",
   "execution_count": 73,
   "id": "394425cc-4cc0-4ebe-ba94-207bb4afe0ab",
   "metadata": {},
   "outputs": [
    {
     "name": "stdout",
     "output_type": "stream",
     "text": [
      "K-Means clustering applied with 5 clusters. Cluster distribution:\n",
      "Cluster_KMeans\n",
      "3    267\n",
      "0    238\n",
      "2    195\n",
      "4    162\n",
      "1    138\n",
      "Name: count, dtype: int64\n"
     ]
    }
   ],
   "source": [
    "# 8. K-Means Clustering Section\n",
    "optimal_k = 5  # Adjust based on the elbow method observation\n",
    "kmeans = KMeans(n_clusters=optimal_k, random_state=42)\n",
    "final_df['Cluster_KMeans'] = kmeans.fit_predict(pca_features)\n",
    "print(f\"K-Means clustering applied with {optimal_k} clusters. Cluster distribution:\")\n",
    "print(final_df['Cluster_KMeans'].value_counts())"
   ]
  },
  {
   "cell_type": "code",
   "execution_count": 74,
   "id": "81e3bcc5-f6a6-4b40-b9cd-d4a4d452533c",
   "metadata": {},
   "outputs": [
    {
     "name": "stdout",
     "output_type": "stream",
     "text": [
      "Final Customer Segmentation with PCA-based Labels:\n",
      "   Cluster_KMeans                                      Cluster_Label\n",
      "0               4  Low Total_Transaction_Amount, Low Sentiment_Score\n",
      "1               2  Moderate Transaction_Frequency, Moderate Custo...\n",
      "2               2  Moderate Transaction_Frequency, Moderate Custo...\n",
      "3               0  High Total_Transaction_Amount, High Customer_L...\n",
      "4               4  Low Total_Transaction_Amount, Low Sentiment_Score\n"
     ]
    }
   ],
   "source": [
    "# Naming Clusters Based on PCA Features\n",
    "cluster_labels = {\n",
    "    0: f\"High {top_features_pca1.index[0]}, High {top_features_pca2.index[0]}\",\n",
    "    1: f\"Low {top_features_pca1.index[0]}, High {top_features_pca2.index[1]}\",\n",
    "    2: f\"Moderate {top_features_pca1.index[1]}, Moderate {top_features_pca2.index[0]}\",\n",
    "    3: f\"High {top_features_pca1.index[1]}, Low {top_features_pca2.index[1]}\",\n",
    "    4: f\"Low {top_features_pca1.index[0]}, Low {top_features_pca2.index[1]}\"\n",
    "}\n",
    "\n",
    "final_df['Cluster_Label'] = final_df['Cluster_KMeans'].map(cluster_labels)\n",
    "print(\"Final Customer Segmentation with PCA-based Labels:\")\n",
    "print(final_df[['Cluster_KMeans', 'Cluster_Label']].head())"
   ]
  },
  {
   "cell_type": "code",
   "execution_count": 75,
   "id": "cddee825-1d48-474e-b05a-7eb0df09c1f7",
   "metadata": {},
   "outputs": [
    {
     "name": "stdout",
     "output_type": "stream",
     "text": [
      "Cluster characteristic comparison:\n",
      "                Total_Transaction_Amount  Average_Transaction_Amount  \\\n",
      "Cluster_KMeans                                                         \n",
      "0                            8539.330508                 2719.803703   \n",
      "1                           22618.695652                 2697.971638   \n",
      "2                            5210.748718                 1718.704615   \n",
      "3                           13198.893130                 2381.715709   \n",
      "4                           17270.253086                 3077.571172   \n",
      "\n",
      "                Transaction_Frequency  Customer_Loyalty_Score  Sentiment_Score  \n",
      "Cluster_KMeans                                                                  \n",
      "0                            3.377119                6.422269         0.258613  \n",
      "1                            8.485507                4.920290         0.496739  \n",
      "2                            3.056410                4.764103         0.581538  \n",
      "3                            5.683206                4.756554         0.616105  \n",
      "4                            5.783951                7.145062         0.149691  \n"
     ]
    }
   ],
   "source": [
    "# 9. Cluster Comparison Section\n",
    "cluster_summary = final_df.groupby('Cluster_KMeans')[['Total_Transaction_Amount', 'Average_Transaction_Amount', 'Transaction_Frequency', 'Customer_Loyalty_Score', 'Sentiment_Score']].mean()\n",
    "print(\"Cluster characteristic comparison:\")\n",
    "print(cluster_summary)"
   ]
  }
 ],
 "metadata": {
  "kernelspec": {
   "display_name": "Python [conda env:base] *",
   "language": "python",
   "name": "conda-base-py"
  },
  "language_info": {
   "codemirror_mode": {
    "name": "ipython",
    "version": 3
   },
   "file_extension": ".py",
   "mimetype": "text/x-python",
   "name": "python",
   "nbconvert_exporter": "python",
   "pygments_lexer": "ipython3",
   "version": "3.12.7"
  }
 },
 "nbformat": 4,
 "nbformat_minor": 5
}
